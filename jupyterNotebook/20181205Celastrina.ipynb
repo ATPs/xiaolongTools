{
 "cells": [
  {
   "cell_type": "markdown",
   "metadata": {},
   "source": [
    "# Celastrina"
   ]
  },
  {
   "cell_type": "markdown",
   "metadata": {},
   "source": [
    "## Celastrina checking\n",
    "20181212"
   ]
  },
  {
   "cell_type": "markdown",
   "metadata": {},
   "source": [
    "### check existance of fastq files"
   ]
  },
  {
   "cell_type": "markdown",
   "metadata": {},
   "source": [
    "```\n",
    "import pandas as pd\n",
    "import os\n",
    "import glob\n",
    "\n",
    "folderBioHPC = '/work/archive/biophysics/Nick_lab/s185491/Celastrina/fq'\n",
    "folder_fq = '/archive/butterfly/ready_fastq/'\n",
    "\n",
    "file_summary = '/home/xcao/w/20181212Celastrina/summary/20181211Celastrina.xlsx'\n",
    "df_summary = pd.read_excel(file_summary,sheet_name='Sheet1')\n",
    "sample_prefix = [e[1:] for e in df_summary['ID']]\n",
    "print('unique sample prefix', len(set(sample_prefix)))\n",
    "\n",
    "files_fq = glob.glob(folder_fq+'*')\n",
    "files_use = [e for e in files_fq if os.path.basename(e).split('_')[0] in sample_prefix]\n",
    "\n",
    "files_possible = []\n",
    "for e in files_fq:\n",
    "    if any([os.path.basename(e).startswith(s) for s in sample_prefix]):\n",
    "        #if e not in files_use:\n",
    "        files_possible.append(e)\n",
    "\n",
    "dc_fq=dict([e,[]] for e in sample_prefix)\n",
    "for e in files_use:\n",
    "    dc_fq[os.path.basename(e).split('_')[0]].append(e)\n",
    "\n",
    "from collections import Counter\n",
    "Counter([len(e) for e in dc_fq.values()])\n",
    "```"
   ]
  },
  {
   "cell_type": "markdown",
   "metadata": {},
   "source": [
    "### Check existance of files and see which map files need to be generated"
   ]
  },
  {
   "cell_type": "markdown",
   "metadata": {},
   "source": [
    "```\n",
    "import pandas as pd\n",
    "import os\n",
    "import glob\n",
    "\n",
    "folderBioHPC = '/work/archive/biophysics/Nick_lab/s185491/Celastrina/fq'\n",
    "folder_fq = '/archive/butterfly/ready_fastq/'\n",
    "\n",
    "file_summary = '/home/xcao/w/20181212Celastrina/summary/20181211Celastrina.xlsx'\n",
    "df_summary = pd.read_excel(file_summary,sheet_name='Sheet1')\n",
    "sample_prefix = [e[1:] for e in df_summary['ID']]\n",
    "print('unique sample prefix', len(set(sample_prefix)))\n",
    "\n",
    "files_fq = glob.glob(folder_fq+'*')\n",
    "files_use = [e for e in files_fq if os.path.basename(e).split('_')[0] in sample_prefix]\n",
    "\n",
    "#commandline = 'scp /archive/butterfly/ready_fastq/{' + ','.join(os.path.basename(e) for e in files_use) +'} s185491@nucleus.biohpc.swmed.edu:/work/archive/biophysics/Nick_lab/s185491/Celastrina/fq/'\n",
    "#os.system(commandline)\n",
    "open('/home/xcao/w/20181212Celastrina/summary/20181211Celastrina.fastq','w').write('\\n'.join(files_use))\n",
    "\n",
    "#check existance of map files\n",
    "files_map = glob.glob('/archive/butterfly/maps/debiased/*.map')\n",
    "files_map = set([os.path.basename(e) for e in files_map])\n",
    "print('number of map files',len(files_map))\n",
    "sample_map = [e for e in sample_prefix if e+'_3913_assembly_v1_snp_step2.map' in files_map]\n",
    "print(len(sample_map),'map files use')\n",
    "open('/home/xcao/w/20181212Celastrina/summary/20181211Celastrina.mapfiles','w').write('\\n'.join(['/archive/butterfly/maps/debiased/'+e+'_3913_assembly_v1_snp_step2.map' for e in sample_map]))\n",
    "\n",
    "#check existance of statistics files\n",
    "files = glob.glob('/archive/butterfly/unbias_pipeline_info/step4_postprocessing/final_stats/*.report')\n",
    "print(files[:2])\n",
    "files = set([os.path.basename(e) for e in files])\n",
    "sample_stats = [e for e in sample_prefix if e+'_3913_assembly_v1_stat.report' in files]\n",
    "print(len(sample_stats),'file stats')\n",
    "print('files missing',[e for e in sample_prefix if e not in sample_map])\n",
    "```"
   ]
  },
  {
   "cell_type": "markdown",
   "metadata": {},
   "source": [
    "conclusion: '18034A05', '18034A08', '18034A09', '18034A02', '3913' is missing. Run the pipeline."
   ]
  },
  {
   "cell_type": "markdown",
   "metadata": {},
   "source": [
    "20181214 Ming Finished Running the pipeline. All files are ready"
   ]
  },
  {
   "cell_type": "markdown",
   "metadata": {},
   "source": [
    "### map files to npInt8"
   ]
  },
  {
   "cell_type": "markdown",
   "metadata": {},
   "source": [
    "```\n",
    "files_map = '/home/xcao/w/20181212Celastrina/summary/20181211Celastrina.mapfiles'\n",
    "outfolder1 = '/home/xcao/w/20181212Celastrina/summary/map.npInt8.0'\n",
    "outfolder2 = '/home/xcao/w/20181212Celastrina/summary/map.npInt8.2'\n",
    "\n",
    "import sys\n",
    "sys.path.append('/home/xcao/p/xiaolongTools/utils/mapFile')\n",
    "import mapfileIO\n",
    "mapfileIO.read2Int8s(filenames=files_map, strand=0, changeGap=True, threads=32, outfolder=outfolder1)\n",
    "mapfileIO.read2Int8s(filenames=files_map, strand=2, changeGap=True, threads=32, outfolder=outfolder2)\n",
    "```"
   ]
  },
  {
   "cell_type": "markdown",
   "metadata": {},
   "source": [
    "### Count gaps in each position"
   ]
  },
  {
   "cell_type": "markdown",
   "metadata": {},
   "source": [
    "```\n",
    "import sys\n",
    "sys.path.append('/home/xcao/p/xiaolongTools/utils/mapFile')\n",
    "import mapfileIO\n",
    "import glob\n",
    "import numpy as np\n",
    "import pickle\n",
    "\n",
    "folder = '/home/xcao/w/20181212Celastrina/summary/map.npInt8.0/'\n",
    "outfile = '/home/xcao/w/20181212Celastrina/summary/map.sitesInfo/gapCount182'\n",
    "outfileHist = outfile + '.hist'\n",
    "files = glob.glob(folder+'*')\n",
    "print('total map files', len(files))\n",
    "\n",
    "ls_mapInt8 = mapfileIO.loadMapBinaries(files, threads=32)\n",
    "temp = ls_mapInt8[0]\n",
    "maplen = len(temp)\n",
    "gapCount = np.zeros(maplen,dtype=np.int16)\n",
    "for e in ls_mapInt8:\n",
    "    gapCount += (e==45)\n",
    "\n",
    "with open(outfile,'wb') as f:\n",
    "    pickle.dump(gapCount,f)\n",
    "\n",
    "gapHist = np.unique(gapCount,return_counts=True)\n",
    "with open(outfileHist,'w') as f:\n",
    "    for c, p in zip(*gapHist):\n",
    "        f.write('{}\\t{}\\n'.format(c,p))\n",
    "\n",
    "#average gap per site\n",
    "gapAvg = gapCount.sum() / maplen\n",
    "print('average gap per site', gapAvg)\n",
    "```"
   ]
  },
  {
   "cell_type": "markdown",
   "metadata": {},
   "source": [
    "It turns out average gap per site for the 182 samples is 36, which is pretty low. Use all sites for genomic phylognetic trees"
   ]
  },
  {
   "cell_type": "markdown",
   "metadata": {},
   "source": [
    "## Phylogenetic Trees"
   ]
  },
  {
   "cell_type": "markdown",
   "metadata": {},
   "source": [
    "### make whole genome phylogenetic trees"
   ]
  },
  {
   "cell_type": "markdown",
   "metadata": {},
   "source": [
    "#### extract all sequences. Use all sites"
   ]
  },
  {
   "cell_type": "markdown",
   "metadata": {},
   "source": [
    "```\n",
    "import sys\n",
    "sys.path.append('/home/xcao/p/xiaolongTools/utils/mapFile')\n",
    "import mapfileIO\n",
    "import glob\n",
    "\n",
    "folder = '/home/xcao/w/20181212Celastrina/summary/map.npInt8.0/'\n",
    "outfile = '/home/xcao/w/20181212Celastrina/20181512phylo/AllSitesNoFilter/Celastrina182.allsites'\n",
    "files = glob.glob(folder+'*')\n",
    "print('total map npInt8 files', len(files))\n",
    "\n",
    "mapfileIO.npInt8stoFastas(files, threads=32, output=outfile, headerFun=lambda x:x.split('_')[0], npFilter=None, npFilterFun=None, merged=True)\n",
    "```"
   ]
  },
  {
   "cell_type": "markdown",
   "metadata": {},
   "source": [
    "transfer to bioHPC ` scp /home/xcao/w/20181212Celastrina/20181512phylo/AllSitesNoFilter/Celastrina182.allsites s185491@nucleus.biohpc.swmed.edu://work/biophysics/s185491/20181216Celastrina/phylo/`"
   ]
  },
  {
   "cell_type": "markdown",
   "metadata": {},
   "source": [
    "#### split the aligned fasta files to 100 parts"
   ]
  },
  {
   "cell_type": "markdown",
   "metadata": {},
   "source": [
    "```\n",
    "python /home2/s185491/p/xiaolongTools/utils/splitFastaAlignments2NPartsContinuingEqualStepOrRandom.py -i /work/biophysics/s185491/20181216Celastrina/phylo/Celastrina182.allsites -o /work/biophysics/s185491/20181216Celastrina/phylo/wholeGenome/100equalStep/ -N 100 -m 1 -t 48\n",
    "```"
   ]
  },
  {
   "cell_type": "markdown",
   "metadata": {},
   "source": [
    "#### run ExaML for each part"
   ]
  },
  {
   "cell_type": "markdown",
   "metadata": {},
   "source": [
    "```\n",
    "txt_qsub = '''#!/bin/bash\n",
    "#SBATCH --job-name={n}\n",
    "#SBATCH --partition=32GB\n",
    "#SBATCH --nodes=7\n",
    "#SBATCH --ntasks=224\n",
    "#SBATCH --time=5-00:00:00\n",
    "#SBATCH --output=0.%j.out\n",
    "#SBATCH --mail-user=xiaolong.cao@utsouthwestern.edu\n",
    "#SBATCH --mail-type=ALL\n",
    "\n",
    "module load openmpi/intel/3.1.1\n",
    "\n",
    "python3 /home2/s185491/p/xiaolongTools/utils/runExaML_withFastaForLargeFiles.py -i {filename} -T 224\n",
    "'''\n",
    "\n",
    "files = ['/work/biophysics/s185491/20181216Celastrina/phylo/wholeGenome/100equalStep/Celastrina182.allsites.split100.%d'%e for e in range(100)]\n",
    "\n",
    "import os\n",
    "for filename in files:\n",
    "    fout = open('/work/biophysics/s185491/20181216Celastrina/phylo/wholeGenome/qsub/'+os.path.basename(filename),'w')\n",
    "    fout.write(txt_qsub.format(filename=filename,n=os.path.basename(filename)))\n",
    "    fout.close()\n",
    "```"
   ]
  },
  {
   "cell_type": "markdown",
   "metadata": {},
   "source": [
    "submit jobs. Put job files in one file, and submit through script below. 4 jobs running at the same time\n",
    "```\n",
    "nohup python /home2/s185491/p/xiaolongTools/utils/submitJobs.py -N 4 -i /work/biophysics/s185491/20181216Celastrina/phylo/wholeGenome/qsub/Celastrina182.allsites.split100.jobs -k 32GB &\n",
    "```"
   ]
  },
  {
   "cell_type": "markdown",
   "metadata": {},
   "source": [
    "#### run ExaML with input starting tree\n",
    "As the result tree `ExaML_modelFile.Celastrina182.allsites.split100.0/1/2/3` is ready, combine them and use this as a guidance tree to improve the speed.\n",
    "\n",
    "combine the trees\n",
    "```\n",
    "cp /work/biophysics/s185491/20181216Celastrina/phylo/wholeGenome/100equalStep/ExaML_result.Celastrina182.allsites.split100.{0,1,2,3} /work/biophysics/s185491/20181216Celastrina/phylo/wholeGenome/ref/\n",
    "cat /work/biophysics/s185491/20181216Celastrina/phylo/wholeGenome/ref/ExaML_result.Celastrina182.allsites.split100.{0,1,2,3}>/work/biophysics/s185491/20181216Celastrina/phylo/wholeGenome/ref/split100.0_1_2_3.sum\n",
    "/home2/s185491/p/anaconda3/anaconda520/bin/sumtrees.py -f 0.00 /work/biophysics/s185491/20181216Celastrina/phylo/wholeGenome/ref/split100.0_1_2_3.sum >/work/biophysics/s185491/20181216Celastrina/phylo/wholeGenome/ref/split100.referenceTree\n",
    "```\n",
    "\n",
    "change format to newick (python)\n",
    "```\n",
    "import dendropy\n",
    "from ete3 import Tree\n",
    "filein = \"/work/biophysics/s185491/20181216Celastrina/phylo/wholeGenome/ref/split100.referenceTree\"\n",
    "fileout = filein +'.newick'\n",
    "mle = dendropy.Tree.get(path=filein, schema=\"nexus\")\n",
    "tree_txt = mle.as_string(schema='newick')\n",
    "tree = Tree(tree_txt..split()[1]strip())\n",
    "tree.resolve_polytomy(recursive=True)\n",
    "tree.write(outfile=fileout)\n",
    "```\n"
   ]
  },
  {
   "cell_type": "markdown",
   "metadata": {},
   "source": [
    "```\n",
    "txt_qsub = '''#!/bin/bash\n",
    "#SBATCH --job-name={n}\n",
    "#SBATCH --partition=32GB\n",
    "#SBATCH --nodes=7\n",
    "#SBATCH --ntasks=224\n",
    "#SBATCH --time=5-00:00:00\n",
    "#SBATCH --output=0.%j.out\n",
    "#SBATCH --mail-user=xiaolong.cao@utsouthwestern.edu\n",
    "#SBATCH --mail-type=ALL\n",
    "\n",
    "module load openmpi/intel/3.1.1\n",
    "\n",
    "python3 /home2/s185491/p/xiaolongTools/utils/runExaML_withFastaForLargeFiles.py -i {filename} -T 224  -r /work/biophysics/s185491/20181216Celastrina/phylo/wholeGenome/ref/split100.referenceTree.newick\n",
    "'''\n",
    "\n",
    "files = ['/work/biophysics/s185491/20181216Celastrina/phylo/wholeGenome/100equalStep/Celastrina182.allsites.split100.%d'%e for e in range(100)]\n",
    "\n",
    "import os\n",
    "for filename in files:\n",
    "    fout = open('/work/biophysics/s185491/20181216Celastrina/phylo/wholeGenome/qsub/'+os.path.basename(filename),'w')\n",
    "    fout.write(txt_qsub.format(filename=filename,n=os.path.basename(filename)))\n",
    "    fout.close()\n",
    "```"
   ]
  },
  {
   "cell_type": "markdown",
   "metadata": {},
   "source": [
    "#### generate a combined tree with 5 trees to have a first look of the result\n",
    "```\n",
    " cat /work/biophysics/s185491/20181216Celastrina/phylo/wholeGenome/100equalStep/ExaML_result.Celastrina182.allsites.split100.{0,2,3,4,8} >/work/biophysics/s185491/20181216Celastrina/phylo/wholeGenome/ref/ExaML_result.Celastrina182.allsites.5trees\n",
    " /home2/s185491/p/anaconda3/anaconda520/bin/sumtrees.py -f 0.00 /work/biophysics/s185491/20181216Celastrina/phylo/wholeGenome/ref/ExaML_result.Celastrina182.allsites.5trees >/work/biophysics/s185491/20181216Celastrina/phylo/wholeGenome/ref/ExaML_result.Celastrina182.allsites.5trees.sum\n",
    " python /home2/s185491/p/xiaolongTools/utils/trees/sumtreesNEXUS2newick.py -i /work/biophysics/s185491/20181216Celastrina/phylo/wholeGenome/ref/ExaML_result.Celastrina182.allsites.5trees.sum\n",
    " /home2/mtang/anaconda2/bin/python /work/biophysics/mtang/SNP_calling/scripts/rename_tree_fullname.py /work/biophysics/s185491/20181216Celastrina/phylo/wholeGenome/ref/ExaML_result.Celastrina182.allsites.5trees.sum.nwk\n",
    "```"
   ]
  },
  {
   "cell_type": "markdown",
   "metadata": {},
   "source": [
    "#### combine trees and have a look at whole genome tree\n",
    "\n",
    "Not all 100 tree finished.\n",
    "\n",
    "```\n",
    " cat /work/biophysics/s185491/20181216Celastrina/phylo/wholeGenome/100equalStep/ExaML_result.Celastrina182.allsites.split100.* >/work/biophysics/s185491/20181216Celastrina/phylo/wholeGenome/ref/ExaML_result.Celastrina182.allsites.46trees\n",
    " /home2/s185491/p/anaconda3/anaconda520/bin/sumtrees.py -f 0.00 /work/biophysics/s185491/20181216Celastrina/phylo/wholeGenome/ref/ExaML_result.Celastrina182.allsites.46trees >/work/biophysics/s185491/20181216Celastrina/phylo/wholeGenome/ref/ExaML_result.Celastrina182.allsites.46trees.sum\n",
    " python /home2/s185491/p/xiaolongTools/utils/trees/sumtreesNEXUS2newick.py -i /work/biophysics/s185491/20181216Celastrina/phylo/wholeGenome/ref/ExaML_result.Celastrina182.allsites.46trees.sum\n",
    " /home2/mtang/anaconda2/bin/python /work/biophysics/mtang/SNP_calling/scripts/rename_tree_fullname.py /work/biophysics/s185491/20181216Celastrina/phylo/wholeGenome/ref/ExaML_result.Celastrina182.allsites.46trees.sum.nwk\n",
    "```\n",
    "\n",
    "Astral\n",
    "```\n",
    "java -Xmx3000m -jar /home2/s185491/p/Astral/astral.5.6.2.jar -i /work/biophysics/s185491/20181216Celastrina/phylo/wholeGenome/ref/ExaML_result.Celastrina182.allsites.46trees -o /work/biophysics/s185491/20181216Celastrina/phylo/wholeGenome/ref/ExaML_result.Celastrina182.allsites.46trees.astral \n",
    "/home2/mtang/anaconda2/bin/python /work/biophysics/mtang/SNP_calling/scripts/rename_tree_fullname.py  /work/biophysics/s185491/20181216Celastrina/phylo/wholeGenome/ref/ExaML_result.Celastrina182.allsites.46trees.astral\n",
    "```"
   ]
  },
  {
   "cell_type": "markdown",
   "metadata": {},
   "source": [
    "### identify z-chromsomes"
   ]
  },
  {
   "cell_type": "markdown",
   "metadata": {},
   "source": [
    "#### run promer3\n",
    "```\n",
    "workfolder = '/home/xcao/w/20181212Celastrina/20181216zchromosome/'\n",
    "target = 'Celastrina3913'\n",
    "target_genome = '/home/xcao/w/genomes/Celastrina/3913_assembly_v1.fa'\n",
    "ls_reference = ['Spodopetera', 'Heliconius','Bombyx']\n",
    "ls_reference_genome=['/home/xcao/w/genomes/Spodoptera_litura/GCF_002706865.1_ASM270686v1_genomic.fna', '/home/xcao/w/genomes/Heliconius_melpomene/Heliconius_melpomene_melpomene_Hmel2.5.scaffolds.fa', '/home/xcao/w/genomes/Bombyx_mori/Bomo_genome_assembly.fa']\n",
    "\n",
    "commands = '''\n",
    "cd {workfolder}\n",
    "/home/xcao/p/mummer/MUMmer3.23/promer  -p {target}2{reference}.promer3 {reference_genome} {target_genome}\n",
    "/home/xcao/p/mummer/MUMmer3.23/delta-filter -q -r {target}2{reference}.promer3.delta >{target}2{reference}.promer3.delta.qr\n",
    "/home/xcao/p/mummer/MUMmer3.23/mummerplot {target}2{reference}.promer3.delta.qr -t postscript -p {target}2{reference}.promer3.delta.qr\n",
    "/home/xcao/p/mummer/MUMmer3.23/show-coords -rcl {target}2{reference}.promer3.delta.qr >{target}{reference}.promer3.coords.qr\n",
    "'''\n",
    "\n",
    "for reference, reference_genome in zip(ls_reference, ls_reference_genome):\n",
    "    print(commands.format(reference=reference,reference_genome=reference_genome,target=target,target_genome=target_genome,workfolder=workfolder))\n",
    "```"
   ]
  },
  {
   "cell_type": "markdown",
   "metadata": {},
   "source": [
    "Plotting the scaffold vs chromosome figure. As the scaffolds is short, it is not clear in the figure to see the whole genome alignment. But if zoom in, scaffold were assigned to certain chromsome."
   ]
  },
  {
   "cell_type": "markdown",
   "metadata": {},
   "source": [
    "#### assign scaffold of Celastrina according to 'Spodopetera', 'Heliconius','Bombyx'"
   ]
  },
  {
   "cell_type": "markdown",
   "metadata": {},
   "source": [
    "change `Celastrina3913Bombyx` to `Celastrina3913Heliconius`,`Celastrina3913Spodopetera` for the other two."
   ]
  },
  {
   "cell_type": "markdown",
   "metadata": {},
   "source": [
    "```\n",
    "import pandas as pd\n",
    "import numpy as np\n",
    "\n",
    "filename_coord = \"/home/xcao/w/20181212Celastrina/20181216zchromosome/Celastrina3913Bombyx.promer3.coords.qr\"\n",
    "\n",
    "filename = filename_coord\n",
    "l = open(filename).readlines()\n",
    "ls =[e.split() for e in l[5:]]\n",
    "\n",
    "df_coord = pd.DataFrame(ls)\n",
    "df_coord = df_coord[[0,1,3,4,6,7,9,10,11,13,14,16,17,19,20,21,22]].copy()\n",
    "df_coord[[0,1,3,4,6,7,9,10,11,13,14,16,17,19,20]] = df_coord[[0,1,3,4,6,7,9,10,11,13,14,16,17,19,20]].apply(pd.to_numeric)\n",
    "df_coord.columns = ['ref_start','ref_end','query_start','query_end','ref_match_len','query_match_len','identity','similarity','percent_stop_codon','ref_len','query_len','ref_coverage','query_coverage','ref_reading_frame','query_reading_frame','ref_id','query_id']\n",
    "df_coord_group_qr = df_coord.groupby(['query_id','ref_id'])\n",
    "\n",
    "df_qr = df_coord_group_qr['ref_match_len'].sum()\n",
    "df_summary = pd.DataFrame([ [e,df_qr[e].idxmax(),df_qr[e].max(),df_qr[e].sum(), df_qr[e].max()/df_qr[e].sum()] for e in df_qr.index.unique(0)])\n",
    "df_summary.columns = ['test_id','ref_id','scaffold_match_len','total_match_len','ratio_specific']\n",
    "\n",
    "\n",
    "for n in range(df_summary.shape[0]):\n",
    "    temp_df = df_coord_group_qr.get_group((df_summary['test_id'][n],df_summary['ref_id'][n]))\n",
    "    match_fragments = temp_df.shape[0]\n",
    "    df_summary.loc[n,'match_fragments'] = match_fragments\n",
    "    positions = []\n",
    "    for m in range(match_fragments):\n",
    "        start = temp_df.iloc[m]['ref_start']\n",
    "        end = temp_df.iloc[m]['ref_end']\n",
    "        if start > end:\n",
    "            start, end = end, start\n",
    "        positions += list(range(start, end))\n",
    "    position_avg = np.median(positions)\n",
    "    df_summary.loc[n,'position_avg'] = position_avg\n",
    "    \n",
    "\n",
    "df_summary['match_fragments'] = df_summary['match_fragments'].astype(np.int64)\n",
    "df_summary['position_avg'] = df_summary['position_avg'].astype(np.int64)\n",
    "df_summary = df_summary.sort_values(by=['ref_id','position_avg'])\n",
    "\n",
    "df_summary.to_csv('/home/xcao/w/20181212Celastrina/summary/20181217Celastrina3913BombyxChr.csv',sep='\\t',index=False)\n",
    "```"
   ]
  },
  {
   "cell_type": "markdown",
   "metadata": {},
   "source": [
    "Plotting the scaffold vs chromosome figure. As the scaffolds is short, it is not clear in the figure to see the whole genome alignment. But if zoom in, scaffold were assigned to certain chromsome."
   ]
  },
  {
   "cell_type": "markdown",
   "metadata": {},
   "source": [
    "#### get z-chromosome scaffolds according to  'Spodopetera', 'Heliconius','Bombyx'"
   ]
  },
  {
   "cell_type": "markdown",
   "metadata": {},
   "source": [
    "Bomo_Chr1   Hmel221001o  NC_036217.1 is the z-chromosme of Bombyx, Heliconius, and Spodopetera, respectively."
   ]
  },
  {
   "cell_type": "markdown",
   "metadata": {},
   "source": [
    "total matched length with Bombyx: 15315609  \n",
    "Heliconius: 16508358  \n",
    "Spodopetera: 16075341"
   ]
  },
  {
   "cell_type": "markdown",
   "metadata": {},
   "source": [
    "z-chromosome infor based on (scaf num, total length)  \n",
    "Bombyx: 145    19688914    \n",
    "Heliconius: 118    20309446    \n",
    "Spodopetera: 121    19065272    \n",
    "all: 70    18243563    \n"
   ]
  },
  {
   "cell_type": "markdown",
   "metadata": {},
   "source": [
    "use \"all\" scaffolds.\n",
    "```\n",
    "import pandas as pd\n",
    "\n",
    "filename = '/home/xcao/w/20181212Celastrina/summary/20181217Celastrina3913BombyxChr.csv'\n",
    "df_bom = pd.read_csv(filename,sep='\\t')\n",
    "\n",
    "filename = '/home/xcao/w/20181212Celastrina/summary/20181217Celastrina3913HeliconiusChr.csv'\n",
    "df_hel = pd.read_csv(filename,sep='\\t')\n",
    "\n",
    "filename = '/home/xcao/w/20181212Celastrina/summary/20181217Celastrina3913SpodopeteraChr.csv'\n",
    "df_spo = pd.read_csv(filename,sep='\\t')\n",
    "\n",
    "df_bom_z = df_bom[df_bom['ref_id'] == 'Bomo_Chr1']\n",
    "df_hel_z = df_hel[df_hel['ref_id'] == 'Hmel221001o']\n",
    "df_spo_z = df_spo[df_spo['ref_id'] == 'NC_036217.1']\n",
    "\n",
    "zscf_bom = set(df_bom_z['test_id'])\n",
    "zscf_hel = set(df_hel_z['test_id'])\n",
    "zscf_spo = set(df_spo_z['test_id'])\n",
    "zscf_all = zscf_bom & zscf_hel & zscf_spo\n",
    "\n",
    "file_genome = '/home/xcao/w/genomes/Celastrina/3913_assembly_v1.fa'\n",
    "from Bio import SeqIO\n",
    "fout = open(file_genome+'.head','w')\n",
    "for _e in SeqIO.parse(file_genome,'fasta'):\n",
    "    fout.write(_e.description+'\\n')\n",
    "fout.close()\n",
    "fout = open(file_genome+'.len','w')\n",
    "for _e in SeqIO.parse(file_genome,'fasta'):\n",
    "    fout.write(_e.id+'\\t'+str(len(_e.seq))+'\\n')\n",
    "fout.close()\n",
    "\n",
    "dc_scaflen = {}\n",
    "filename = file_genome+'.len'\n",
    "for line in open(filename):\n",
    "    scf,l = line.split()\n",
    "    l=int(l)\n",
    "    dc_scaflen[scf] = l\n",
    "\n",
    "print(sum([dc_scaflen[e] for e in zscf_bom]))\n",
    "print(sum([dc_scaflen[e] for e in zscf_hel]))\n",
    "print(sum([dc_scaflen[e] for e in zscf_spo]))\n",
    "print(sum([dc_scaflen[e] for e in zscf_all]))\n",
    "\n",
    "open('/home/xcao/w/20181212Celastrina/summary/20181217Celastrina3913_z_scf_basedon3','w').write('\\n'.join(zscf_all))\n",
    "\n",
    "```"
   ]
  },
  {
   "cell_type": "markdown",
   "metadata": {},
   "source": [
    "#### generate a filter np.array file to extract z-chromosome sequences"
   ]
  },
  {
   "cell_type": "markdown",
   "metadata": {},
   "source": [
    "npSites is a numpy array with True and False. If True, means a z-chromosome sites based on the three reference species"
   ]
  },
  {
   "cell_type": "markdown",
   "metadata": {},
   "source": [
    "```\n",
    "file_genomelen = '/home/xcao/w/genomes/Celastrina/3913_assembly_v1.fa.len'\n",
    "file_targetscf = '/home/xcao/w/20181212Celastrina/summary/20181217Celastrina3913_z_scf_basedon3'\n",
    "\n",
    "import numpy as np\n",
    "import pickle\n",
    "import itertools\n",
    "sites = [] #True for keep, False not keep. The same length as the genome\n",
    "target_scfs = open(file_targetscf).read().split()\n",
    "target_scfs = set(target_scfs)\n",
    "for line in open(file_genomelen):\n",
    "    scf,scflen = line.split()\n",
    "    scflen = int(scflen)\n",
    "    if scf in target_scfs:\n",
    "        sites.append([True] * scflen)\n",
    "    else:\n",
    "        sites.append([False] * scflen)\n",
    "sites = list(itertools.chain.from_iterable(sites))\n",
    "npSites = np.array(sites)\n",
    "with open('/home/xcao/w/20181212Celastrina/summary/map.sitesInfo/zChrFilter','wb') as f:\n",
    "    pickle.dump(npSites,f)\n",
    "```"
   ]
  },
  {
   "cell_type": "markdown",
   "metadata": {},
   "source": [
    "### make z-chromosme phylogenetic tree"
   ]
  },
  {
   "cell_type": "markdown",
   "metadata": {},
   "source": [
    "#### extract sequence"
   ]
  },
  {
   "cell_type": "markdown",
   "metadata": {},
   "source": [
    "```\n",
    "import sys\n",
    "sys.path.append('/home/xcao/p/xiaolongTools/utils/mapFile')\n",
    "import mapfileIO\n",
    "import glob\n",
    "\n",
    "folder = '/home/xcao/w/20181212Celastrina/summary/map.npInt8.0/'\n",
    "outfile = '/home/xcao/w/20181212Celastrina/20181512phylo/zChrBased3Ref/Celastrina182.zChr'\n",
    "file_filter = '/home/xcao/w/20181212Celastrina/summary/map.sitesInfo/zChrFilter'\n",
    "files = glob.glob(folder+'*')\n",
    "print('total map npInt8 files', len(files))\n",
    "\n",
    "mapfileIO.npInt8stoFastas(files, threads=32, output=outfile, headerFun=lambda x:x.split('_')[0], npFilter=file_filter, npFilterFun=None, merged=True)\n",
    "```"
   ]
  },
  {
   "cell_type": "markdown",
   "metadata": {},
   "source": [
    "transfer to BioHPC\n",
    "`scp /home/xcao/w/20181212Celastrina/20181512phylo/zChrBased3Ref/Celastrina182.zChr s185491@nucleus.biohpc.swmed.edu:/work/biophysics/s185491/20181216Celastrina/phylo/zChr/`"
   ]
  },
  {
   "cell_type": "markdown",
   "metadata": {},
   "source": [
    "#### rum ExaML"
   ]
  },
  {
   "cell_type": "markdown",
   "metadata": {},
   "source": [
    "```\n",
    "txt_qsub = '''#!/bin/bash\n",
    "#SBATCH --job-name=zChr\n",
    "#SBATCH --partition=32GB\n",
    "#SBATCH --nodes=32\n",
    "#SBATCH --ntasks=1024\n",
    "#SBATCH --time=5-00:00:00\n",
    "#SBATCH --output=0.%j.out\n",
    "#SBATCH --mail-user=xiaolong.cao@utsouthwestern.edu\n",
    "#SBATCH --mail-type=ALL\n",
    "\n",
    "module load openmpi/intel/3.1.1\n",
    "\n",
    "/home2/s185491/p/anaconda3/anaconda520/bin/python3 /home2/s185491/p/xiaolongTools/utils/runExaML_withFastaForLargeFiles.py -i {filename} -T 1024 -r /work/biophysics/s185491/20181216Celastrina/phylo/wholeGenome/100equalStep/ExaML_result.Celastrina182.allsites.split100.0\n",
    "'''\n",
    "\n",
    "files = ['/work/biophysics/s185491/20181216Celastrina/phylo/zChr/Celastrina182.zChr']\n",
    "\n",
    "import os\n",
    "for filename in files:\n",
    "    fout = open('/work/biophysics/s185491/20181216Celastrina/phylo/zChr/qsub.Celastrina182.zChr','w')\n",
    "    fout.write(txt_qsub.format(filename=filename,n=os.path.basename(filename)))\n",
    "    fout.close()\n",
    "```\n",
    "\n",
    "submit with Jinhui's account."
   ]
  },
  {
   "cell_type": "markdown",
   "metadata": {},
   "source": [
    "#### rename trees\n",
    "```\n",
    "/home2/mtang/anaconda2/bin/python /work/biophysics/mtang/SNP_calling/scripts/rename_tree_fullname.py /work/biophysics/s185491/20181216Celastrina/phylo/zChr/ExaML_result.Celastrina182.zChr\n",
    "```"
   ]
  },
  {
   "cell_type": "markdown",
   "metadata": {},
   "source": [
    "#### run 10 more zChr tree with ExaML, with the output of zChr tree as input\n",
    "20181219, with Jinhui's account. \n",
    "Conclusion: run tree with same input generate almost identical result, through the starting tree and random seed are different.\n",
    "\n",
    "\n",
    "```\n",
    "#!/bin/bash\n",
    "#SBATCH --job-name=zChr\n",
    "#SBATCH --partition=32GB\n",
    "#SBATCH --nodes=16\n",
    "#SBATCH --ntasks=512\n",
    "#SBATCH --time=5-00:00:00\n",
    "#SBATCH --output=0.%j.out\n",
    "#SBATCH --mail-user=xiaolong.cao@utsouthwestern.edu\n",
    "#SBATCH --mail-type=ALL\n",
    "\n",
    "module load openmpi/intel/3.1.1\n",
    "cd /work/biophysics/s185491/20181216Celastrina/phylo/zChr/\n",
    "\n",
    "mpirun -np 512 /home2/s185491/p/examl/ExaML/examl/examl -m GAMMA -t ExaML_result.Celastrina182.zChr -s Celastrina182.zChr.binary -n Celastrina182.zChr00\n",
    "mpirun -np 512 /home2/s185491/p/examl/ExaML/examl/examl -m GAMMA -t ExaML_result.Celastrina182.zChr -s Celastrina182.zChr.binary -n Celastrina182.zChr01\n",
    "mpirun -np 512 /home2/s185491/p/examl/ExaML/examl/examl -m GAMMA -t ExaML_result.Celastrina182.zChr -s Celastrina182.zChr.binary -n Celastrina182.zChr02\n",
    "mpirun -np 512 /home2/s185491/p/examl/ExaML/examl/examl -m GAMMA -t ExaML_result.Celastrina182.zChr -s Celastrina182.zChr.binary -n Celastrina182.zChr03\n",
    "mpirun -np 512 /home2/s185491/p/examl/ExaML/examl/examl -m GAMMA -t ExaML_result.Celastrina182.zChr -s Celastrina182.zChr.binary -n Celastrina182.zChr04\n",
    "mpirun -np 512 /home2/s185491/p/examl/ExaML/examl/examl -m GAMMA -t ExaML_result.Celastrina182.zChr -s Celastrina182.zChr.binary -n Celastrina182.zChr05\n",
    "mpirun -np 512 /home2/s185491/p/examl/ExaML/examl/examl -m GAMMA -t ExaML_result.Celastrina182.zChr -s Celastrina182.zChr.binary -n Celastrina182.zChr06\n",
    "mpirun -np 512 /home2/s185491/p/examl/ExaML/examl/examl -m GAMMA -t ExaML_result.Celastrina182.zChr -s Celastrina182.zChr.binary -n Celastrina182.zChr07\n",
    "mpirun -np 512 /home2/s185491/p/examl/ExaML/examl/examl -m GAMMA -t ExaML_result.Celastrina182.zChr -s Celastrina182.zChr.binary -n Celastrina182.zChr08\n",
    "mpirun -np 512 /home2/s185491/p/examl/ExaML/examl/examl -m GAMMA -t ExaML_result.Celastrina182.zChr -s Celastrina182.zChr.binary -n Celastrina182.zChr09\n",
    "```"
   ]
  },
  {
   "cell_type": "markdown",
   "metadata": {},
   "source": [
    "#### zChr sum of 5 trees"
   ]
  },
  {
   "cell_type": "markdown",
   "metadata": {},
   "source": [
    "\n",
    "```\n",
    " cat /work/biophysics/s185491/20181216Celastrina/phylo/zChr/ExaML_result.Celastrina182.zChr0* >/work/biophysics/s185491/20181216Celastrina/phylo/zChr/ExaML_result.Celastrina182.zChr.all\n",
    " /home2/s185491/p/anaconda3/anaconda520/bin/sumtrees.py -f 0.00 /work/biophysics/s185491/20181216Celastrina/phylo/zChr/ExaML_result.Celastrina182.zChr.all >/work/biophysics/s185491/20181216Celastrina/phylo/zChr/ExaML_result.Celastrina182.zChr.sum\n",
    " python /home2/s185491/p/xiaolongTools/utils/trees/sumtreesNEXUS2newick.py -i /work/biophysics/s185491/20181216Celastrina/phylo/zChr/ExaML_result.Celastrina182.zChr.sum\n",
    " /home2/mtang/anaconda2/bin/python /work/biophysics/mtang/SNP_calling/scripts/rename_tree_fullname.py /work/biophysics/s185491/20181216Celastrina/phylo/zChr/ExaML_result.Celastrina182.zChr.sum.nwk\n",
    "```\n",
    "\n",
    "Astral\n",
    "```\n",
    "java -Xmx3000m -jar /home2/s185491/p/Astral/astral.5.6.2.jar -i /work/biophysics/s185491/20181216Celastrina/phylo/zChr/ExaML_result.Celastrina182.zChr.all -o /work/biophysics/s185491/20181216Celastrina/phylo/zChr/ExaML_result.Celastrina182.zChr.astral \n",
    "/home2/mtang/anaconda2/bin/python /work/biophysics/mtang/SNP_calling/scripts/rename_tree_fullname.py  /work/biophysics/s185491/20181216Celastrina/phylo/zChr/ExaML_result.Celastrina182.zChr.astral\n",
    "```"
   ]
  },
  {
   "cell_type": "markdown",
   "metadata": {},
   "source": [
    "### mitoTree"
   ]
  },
  {
   "cell_type": "markdown",
   "metadata": {},
   "source": [
    "#### get sequences\n",
    "```\n",
    "import sys\n",
    "sys.path.append('/home/xcao/p/xiaolongTools/utils/mapFile')\n",
    "import mapfileIO\n",
    "filename = '/home/xcao/w/20181212Celastrina/summary/20181211Celastrina.mapfiles'\n",
    "ls_files = open(filename).read().split()\n",
    "files = [f.replace('3913_assembly_v1_snp_step2.map', '3913_mito_snp_step2.map') for f in ls_files]\n",
    "outfile = '/home/xcao/w/20181212Celastrina/20181512phylo/mitochondria/Celastrina.mito'\n",
    "mapfileIO.mapFilestoFastas(files, threads=32, output=outfile, headerFun=lambda x:x.split('/')[-1].split('_')[0], npFilter=None, npFilterFun=None, merged=True)\n",
    "```"
   ]
  },
  {
   "cell_type": "markdown",
   "metadata": {},
   "source": [
    "#### run MrBayes\n",
    "\n",
    "cp sequence to bioHPC. For runMrBayes_largeInput, change chain to 2, and number of generation to 20 million\n",
    "```\n",
    "#!/bin/bash\n",
    "#SBATCH --job-name=mito\n",
    "#SBATCH --partition=256GB\n",
    "#SBATCH --nodes=1\n",
    "#SBATCH --ntasks=48\n",
    "#SBATCH --time=5-00:00:00\n",
    "#SBATCH --output=0.%j.out\n",
    "#SBATCH --mail-user=xiaolong.cao@utsouthwestern.edu\n",
    "#SBATCH --mail-type=ALL\n",
    "\n",
    "module load openmpi/intel/3.1.1\n",
    "module load beagle-lib/2.1.2\n",
    "\n",
    "python /home2/s185491/p/xiaolongTools/project/Junonia/runMrBayes_largeInput.py -i /work/biophysics/s185491/20181216Celastrina/phylo/mitochondria/Celastrina.mito\n",
    "```\n",
    "\n",
    "```\n",
    "cp /work/biophysics/s185491/20181216Celastrina/phylo/mitochondriaNewick/Celastrina.mito /work/biophysics/s185491/20181216Celastrina/phylo/mitochondria/Celastrina.mito.nwk\n",
    "cp /work/biophysics/s185491/20181216Celastrina/phylo/mitochondriaMrBayes/Celastrina.mito /work/biophysics/s185491/20181216Celastrina/phylo/mitochondria/Celastrina.mito.nex\n",
    "#rename\n",
    "/home2/mtang/anaconda2/bin/python /work/biophysics/mtang/SNP_calling/scripts/rename_tree_fullname.py /work/biophysics/s185491/20181216Celastrina/phylo/mitochondria/Celastrina.mito.nwk\n",
    "```\n",
    "\n"
   ]
  },
  {
   "cell_type": "markdown",
   "metadata": {},
   "source": [
    "## PCA"
   ]
  },
  {
   "cell_type": "markdown",
   "metadata": {},
   "source": [
    "### whole genome alignment 20181216"
   ]
  },
  {
   "cell_type": "markdown",
   "metadata": {},
   "source": [
    "#### running PCA"
   ]
  },
  {
   "cell_type": "markdown",
   "metadata": {},
   "source": [
    "run the line below first to load required packages\n",
    "```\n",
    "export PATH=$PATH:/home2/wli/local/EIG6.1.1/bin;\n",
    "module add gsl/1.15;\n",
    "module add openblas/intel/0.2.14;\n",
    "```"
   ]
  },
  {
   "cell_type": "markdown",
   "metadata": {},
   "source": [
    "```\n",
    "txt = '''\n",
    "cd /work/biophysics/s185491/20181216Celastrina/PCA/  &&  python /home2/s185491/p/xiaolongTools/WenlinTools.Python3/scripts/fasta2EIGinput.py /work/biophysics/s185491/20181216Celastrina/phylo/{filename}  &&  /home2/wli/local/EIG6.1.1/bin/smartpca.pl -i {filename}.geno -a {filename}.snp -b {filename}.ind -o {filename}.pca -p {filename}.plot -e {filename}.eval -l {filename}.log -snpweightoutname {filename}.snp_weights.txt &\n",
    "'''\n",
    "files_sitesKeep = '''Celastrina182.allsites'''\n",
    "print(txt.format(filename = files_sitesKeep))\n",
    "```"
   ]
  },
  {
   "cell_type": "markdown",
   "metadata": {},
   "source": [
    "#### plot PCA, whole genome\n",
    "20181218\n",
    "```\n",
    "filename <- 'C:\\\\Users\\\\ATPs\\\\OneDrive\\\\Lab\\\\UTSW\\\\2018Celastrina\\\\20181211Celastrina.xlsx'\n",
    "\n",
    "library(ggplot2)\n",
    "library(readxl)\n",
    "library(ggrepel)\n",
    "\n",
    "mydata <- read_excel(filename,sheet = 'Sheet1')\n",
    "PCAs = c('Allsites182.PC1',\n",
    "         'Allsites182.PC2',\n",
    "         'Allsites182.PC3'\n",
    "        )\n",
    "\n",
    "pdf('C:\\\\Users\\\\ATPs\\\\OneDrive\\\\Lab\\\\UTSW\\\\2018Celastrina\\\\PCA\\\\Celastrina182.allsites.pca.pdf',width = 30, height = 18)\n",
    "\n",
    "ggplot(mydata, aes_string(x=PCAs[1],y=PCAs[2])) + geom_point(aes(color=`Taxon name`, size = 5))  + geom_label_repel(aes(label=`DNA number`),label.size=NA,fill=NA) \n",
    "ggplot(mydata, aes_string(x=PCAs[1],y=PCAs[3])) + geom_point(aes(color=`Taxon name`, size = 5))  + geom_label_repel(aes(label=`DNA number`),label.size=NA,fill=NA) \n",
    "ggplot(mydata, aes_string(x=PCAs[2],y=PCAs[3])) + geom_point(aes(color=`Taxon name`, size = 5))  + geom_label_repel(aes(label=`DNA number`),label.size=NA,fill=NA) \n",
    "\n",
    "\n",
    "dev.off()\n",
    "```"
   ]
  },
  {
   "cell_type": "markdown",
   "metadata": {},
   "source": [
    "### zChr PCA 20181219"
   ]
  },
  {
   "cell_type": "markdown",
   "metadata": {},
   "source": [
    "```\n",
    "files_sitesKeep = '''Celastrina182.zChr'''\n",
    "folder_fasta = '/work/biophysics/s185491/20181216Celastrina/phylo/zChr'\n",
    "folder_PCA = '/work/biophysics/s185491/20181216Celastrina/PCA/'\n",
    "txt = '''\n",
    "cd {folder_PCA}  &&  python /home2/s185491/p/xiaolongTools/WenlinTools.Python3/scripts/fasta2EIGinput.py {folder}/{filename}  &&  /home2/wli/local/EIG6.1.1/bin/smartpca.pl -i {filename}.geno -a {filename}.snp -b {filename}.ind -o {filename}.pca -p {filename}.plot -e {filename}.eval -l {filename}.log -snpweightoutname {filename}.snp_weights.txt &\n",
    "'''\n",
    "print(txt.format(filename = files_sitesKeep,folder=folder,folder_PCA=folder_PCA))\n",
    "```\n",
    "run linux\n",
    "```\n",
    "export PATH=$PATH:/home2/wli/local/EIG6.1.1/bin;\n",
    "module add gsl/1.15;\n",
    "module add openblas/intel/0.2.14;\n",
    "cd /work/biophysics/s185491/20181216Celastrina/PCA/  &&  python /home2/s185491/p/xiaolongTools/WenlinTools.Python3/scripts/fasta2EIGinput.py /work/biophysics/s185491/20181216Celastrina/phylo/zChr/Celastrina182.zChr  &&  /home2/wli/local/EIG6.1.1/bin/smartpca.pl -i Celastrina182.zChr.geno -a Celastrina182.zChr.snp -b Celastrina182.zChr.ind -o Celastrina182.zChr.pca -p Celastrina182.zChr.plot -e Celastrina182.zChr.eval -l Celastrina182.zChr.log -snpweightoutname Celastrina182.zChr.snp_weights.txt &\n",
    "\n",
    "```"
   ]
  },
  {
   "cell_type": "markdown",
   "metadata": {},
   "source": [
    "## STRUCTURE"
   ]
  },
  {
   "cell_type": "markdown",
   "metadata": {},
   "source": [
    "### zChr"
   ]
  },
  {
   "cell_type": "markdown",
   "metadata": {},
   "source": [
    "#### convert fasta 2 structure input\n",
    "```\n",
    "python /home2/s185491/p/xiaolongTools/utils/STRUCTURE/fasta2STRUCTUREinput_haploid_nt.py -i /work/biophysics/s185491/20181216Celastrina/phylo/zChr/Celastrina182.zChr -o /work/biophysics/s185491/20181216Celastrina/structure/zChr/Celastrina182.zChr -t 48\n",
    "```\n",
    "It seems xmfa2struct also output a first line with some position information. \n",
    "\n",
    "Note: program is updated to include distance between SNP sites. 182 samples with 924610 SNPs (924611 sites, add first column 0)"
   ]
  },
  {
   "cell_type": "markdown",
   "metadata": {},
   "source": [
    "the input is too large to run STRUCTURE. split the fasta file to 3 parts\n",
    "```\n",
    "python /home2/s185491/p/xiaolongTools/utils/splitFastaAlignments2NPartsContinuingEqualStepOrRandom.py -i /work/biophysics/s185491/20181216Celastrina/phylo/zChr/Celastrina182.zChr -t 48 -m 1 -o /work/biophysics/s185491/20181216Celastrina/phylo/zChr/ -N 3```"
   ]
  },
  {
   "cell_type": "markdown",
   "metadata": {},
   "source": [
    "convert fasta 2 structure input for 3 files\n",
    "```\n",
    "python /home2/s185491/p/xiaolongTools/utils/STRUCTURE/fasta2STRUCTUREinput_haploid_nt.py -i /work/biophysics/s185491/20181216Celastrina/phylo/zChr/Celastrina182.zChr.split3.0 -o /work/biophysics/s185491/20181216Celastrina/structure/zChr/Celastrina182.zChr.split3.0 -t 48\n",
    "python /home2/s185491/p/xiaolongTools/utils/STRUCTURE/fasta2STRUCTUREinput_haploid_nt.py -i /work/biophysics/s185491/20181216Celastrina/phylo/zChr/Celastrina182.zChr.split3.1 -o /work/biophysics/s185491/20181216Celastrina/structure/zChr/Celastrina182.zChr.split3.1 -t 48\n",
    "python /home2/s185491/p/xiaolongTools/utils/STRUCTURE/fasta2STRUCTUREinput_haploid_nt.py -i /work/biophysics/s185491/20181216Celastrina/phylo/zChr/Celastrina182.zChr.split3.2 -o /work/biophysics/s185491/20181216Celastrina/structure/zChr/Celastrina182.zChr.split3.2 -t 48\n",
    "```"
   ]
  },
  {
   "cell_type": "markdown",
   "metadata": {},
   "source": [
    "#### generate cmds and run"
   ]
  },
  {
   "cell_type": "markdown",
   "metadata": {},
   "source": [
    "182 samples, the sites for split0, 1, and 1 are 307765, 308559, 308289 respectively.  \n",
    "generate running scripts\n",
    "```\n",
    "python /home2/s185491/p/xiaolongTools/utils/STRUCTURE/runSTRUCTUREwithSTRUCTUREinput.py -i /work/biophysics/s185491/20181216Celastrina/structure/zChr/Celastrina182.zChr.split3.0 -I 182 -L 307765 -s 1000 -P 2,3,4,5,6,7,8,9 -o /work/biophysics/s185491/20181216Celastrina/structure/zChr/cmds/jobs.txt\n",
    "python /home2/s185491/p/xiaolongTools/utils/STRUCTURE/runSTRUCTUREwithSTRUCTUREinput.py -i /work/biophysics/s185491/20181216Celastrina/structure/zChr/Celastrina182.zChr.split3.1 -I 182 -L 308559 -s 1000 -P 2,3,4,5,6,7,8,9 -o /work/biophysics/s185491/20181216Celastrina/structure/zChr/cmds/jobs.txt\n",
    "python /home2/s185491/p/xiaolongTools/utils/STRUCTURE/runSTRUCTUREwithSTRUCTUREinput.py -i /work/biophysics/s185491/20181216Celastrina/structure/zChr/Celastrina182.zChr.split3.2 -I 182 -L 308289 -s 1000 -P 2,3,4,5,6,7,8,9 -o /work/biophysics/s185491/20181216Celastrina/structure/zChr/cmds/jobs.txt\n",
    "```\n",
    "run jobs\n",
    "```\n",
    "#!/bin/bash\n",
    "#SBATCH --job-name=zChr_Structure\n",
    "#SBATCH --partition=super\n",
    "#SBATCH --nodes=1\n",
    "#SBATCH --ntasks=24\n",
    "#SBATCH --time=10-00:00:00\n",
    "#SBATCH --output={file_id}.%j.out\n",
    "#SBATCH --mail-user=xiaolong.cao@utsouthwestern.edu\n",
    "#SBATCH --mail-type=ALL\n",
    "\n",
    "python3 /home2/s185491/p/xiaolongTools/multiThread.py 24 /work/biophysics/s185491/20181216Celastrina/structure/zChr/cmds/jobs.txt\n",
    "```"
   ]
  },
  {
   "cell_type": "markdown",
   "metadata": {},
   "source": [
    "### whole genome\n"
   ]
  },
  {
   "cell_type": "markdown",
   "metadata": {},
   "source": [
    "#### convert fasta 2 structure input"
   ]
  },
  {
   "cell_type": "markdown",
   "metadata": {},
   "source": [
    "```\n",
    "txt = '''\n",
    "python /home2/s185491/p/xiaolongTools/utils/STRUCTURE/fasta2STRUCTUREinput_haploid_nt.py -i /work/biophysics/s185491/20181216Celastrina/phylo/wholeGenome/100equalStep/Celastrina182.allsites.split100.{n} -o /work/biophysics/s185491/20181216Celastrina/structure/whole/Celastrina182.allsites.split100.{n} -t 48'''\n",
    "for n in range(6):\n",
    "    print(txt.format(n=n))\n",
    "\n",
    "```\n",
    "182 samples. snp counts 249060  249493  249053  249879  249277  249057"
   ]
  },
  {
   "cell_type": "markdown",
   "metadata": {},
   "source": [
    "#### generate cmds and run\n",
    "```\n",
    "snp_counts = '249060 249493 249053 249879 249277 249057'.split()\n",
    "txt = 'python /home2/s185491/p/xiaolongTools/utils/STRUCTURE/runSTRUCTUREwithSTRUCTUREinput.py -i /work/biophysics/s185491/20181216Celastrina/structure/whole/Celastrina182.allsites.split100.{n} -I 182 -L {snp} -s 1000 -P 2,3,4,5,6,7,8,9 -o /work/biophysics/s185491/20181216Celastrina/structure/whole/cmds/jobs.txt'\n",
    "for snp,n in zip(snp_counts,range(6)):\n",
    "    print(txt.format(n=n,snp=snp))\n",
    "```"
   ]
  },
  {
   "cell_type": "markdown",
   "metadata": {},
   "source": [
    "```\n",
    "#!/bin/bash\n",
    "#SBATCH --job-name=zChr_Structure\n",
    "#SBATCH --partition=256GB\n",
    "#SBATCH --nodes=1\n",
    "#SBATCH --ntasks=48\n",
    "#SBATCH --time=10-00:00:00\n",
    "#SBATCH --output={file_id}.%j.out\n",
    "#SBATCH --mail-user=xiaolong.cao@utsouthwestern.edu\n",
    "#SBATCH --mail-type=ALL\n",
    "\n",
    "python3 /home2/s185491/p/xiaolongTools/multiThread.py 48 /work/biophysics/s185491/20181216Celastrina/structure/whole/cmds/jobs.txt\n",
    "```"
   ]
  }
 ],
 "metadata": {
  "kernelspec": {
   "display_name": "Python 3",
   "language": "python",
   "name": "python3"
  },
  "language_info": {
   "codemirror_mode": {
    "name": "ipython",
    "version": 3
   },
   "file_extension": ".py",
   "mimetype": "text/x-python",
   "name": "python",
   "nbconvert_exporter": "python",
   "pygments_lexer": "ipython3",
   "version": "3.6.5"
  },
  "toc": {
   "base_numbering": 1,
   "nav_menu": {},
   "number_sections": true,
   "sideBar": true,
   "skip_h1_title": true,
   "title_cell": "Table of Contents",
   "title_sidebar": "Contents",
   "toc_cell": false,
   "toc_position": {
    "height": "calc(100% - 180px)",
    "left": "10px",
    "top": "150px",
    "width": "384px"
   },
   "toc_section_display": true,
   "toc_window_display": true
  }
 },
 "nbformat": 4,
 "nbformat_minor": 2
}
