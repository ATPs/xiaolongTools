{
 "cells": [
  {
   "cell_type": "markdown",
   "metadata": {},
   "source": [
    "```\n",
    "import pandas as pd\n",
    "import os\n",
    "import glob\n",
    "\n",
    "folderBioHPC = '/work/archive/biophysics/Nick_lab/s185491/Celastrina/fq'\n",
    "folder_fq = '/archive/butterfly/ready_fastq/'\n",
    "\n",
    "file_summary = '/home/xcao/w/2018Calephelis/summary/20181217Calephelis.xlsx'\n",
    "df_summary = pd.read_excel(file_summary,sheet_name='Sheet1')\n",
    "sample_prefix = [e[1:] for e in df_summary['ID']]\n",
    "print('unique sample prefix', len(set(sample_prefix)))\n",
    "\n",
    "files_fq = glob.glob(folder_fq+'*')\n",
    "files_use = [e for e in files_fq if os.path.basename(e).split('_')[0] in sample_prefix]\n",
    "prefix_fq = [os.path.basename(e).split('_')[0] for e in files_use]\n",
    "\n",
    "sample_prefix =set(prefix_fq)\n",
    "\n",
    "txt = '''cd {workingfolder} && mkdir {name} && cd {name} && /home/xcao/p/mira/mira_4.0.2_linux-gnu_x86_64_static/bin/mirabait -k 21 {baitTarget} /archive/butterfly/ready_fastq/{name}_R1.fastq {name}_R1.fastq && /home/xcao/p/mira/mira_4.0.2_linux-gnu_x86_64_static/bin/mirabait -k 21 {baitTarget} /archive/butterfly/ready_fastq/{name}_R2.fastq {name}_R2.fastq && /home/xcao/p/SPAdes/SPAdes-3.13.0-Linux/bin/spades.py -t 4 --s1 {name}_R1.fastq --s2 {name}_R2.fastq -o ./spades/ && mv ./spades/contigs.fasta ../{name}_contig.fa && rm -rf {workingfolder}{name}/spades && rm {workingfolder}{name}/hashstat.bin\n",
    "'''\n",
    "\n",
    "workingfolder = '/home/xcao/w/2018Calephelis/20181217virus/scaffold1380/'\n",
    "baitTarget = '/home/xcao/w/2018Calephelis/20181217virus/scaffold1380/scaffold1308.fa'\n",
    "open(workingfolder+'jobs.cmds','w').write(''.join(txt.format(workingfolder=workingfolder, baitTarget=baitTarget, name = name) for name in sample_prefix))\n",
    "\n",
    "baitTarget='/home/xcao/w/2018Calephelis/20181217virus/scaffold6262/scaffold6262.fa'\n",
    "workingfolder='/home/xcao/w/2018Calephelis/20181217virus/scaffold6262/'\n",
    "open(workingfolder+'jobs.cmds','w').write(''.join(txt.format(workingfolder=workingfolder, baitTarget=baitTarget, name = name) for name in sample_prefix))\n",
    "\n",
    "#nohup python /home/xcao/p/xiaolongTools/multiThread.py 48 /home/xcao/w/2018Calephelis/20181217virus/scaffold1380/jobs.cmds &\n",
    "#nohup python /home/xcao/p/xiaolongTools/multiThread.py 48 /home/xcao/w/2018Calephelis/20181217virus/scaffold6262/jobs.cmds &\n",
    "\n",
    "folder = '/home/xcao/w/2018Calephelis/20181217virus/scaffold6262/'\n",
    "contigs_prefix = glob.glob(folder+'*_contig.fa')\n",
    "contigs_prefix = [os.path.basename(e).split('_')[0] for e in contigs_prefix]\n",
    "print([e for e in sample_prefix if e not in contigs_prefix])\n",
    "#the missing ones are ['3505', '3540', '3585', '3847']\n",
    "missing_prefix = [e for e in sample_prefix if e not in contigs_prefix]\n",
    "baitTarget='/home/xcao/w/2018Calephelis/20181217virus/scaffold6262/scaffold6262.fa'\n",
    "workingfolder='/home/xcao/w/2018Calephelis/20181217virus/scaffold6262/'\n",
    "txt = '''cd {workingfolder} && rm -rf {workingfolder}{name} && mkdir {name} && cd {name} && /home/xcao/p/mira/mira_4.0.2_linux-gnu_x86_64_static/bin/mirabait -k 21 {baitTarget} /archive/butterfly/ready_fastq/{name}_400_R1.fastq {name}_R1.fastq && /home/xcao/p/mira/mira_4.0.2_linux-gnu_x86_64_static/bin/mirabait -k 21 {baitTarget} /archive/butterfly/ready_fastq/{name}_400_R2.fastq {name}_R2.fastq && /home/xcao/p/SPAdes/SPAdes-3.13.0-Linux/bin/spades.py -t 4 --s1 {name}_R1.fastq --s2 {name}_R2.fastq -o ./spades/ && mv ./spades/contigs.fasta ../{name}_contig.fa && rm -rf {workingfolder}{name}/spades && rm {workingfolder}{name}/hashstat.bin\n",
    "'''\n",
    "for name in missing_prefix:\n",
    "    print(txt.format(workingfolder=workingfolder, baitTarget=baitTarget, name = name))\n",
    "\n",
    "```"
   ]
  }
 ],
 "metadata": {
  "kernelspec": {
   "display_name": "R",
   "language": "R",
   "name": "ir"
  },
  "language_info": {
   "codemirror_mode": "r",
   "file_extension": ".r",
   "mimetype": "text/x-r-source",
   "name": "R",
   "pygments_lexer": "r",
   "version": "3.5.1"
  },
  "toc": {
   "base_numbering": 1,
   "nav_menu": {},
   "number_sections": true,
   "sideBar": true,
   "skip_h1_title": true,
   "title_cell": "Table of Contents",
   "title_sidebar": "Contents",
   "toc_cell": false,
   "toc_position": {},
   "toc_section_display": true,
   "toc_window_display": false
  }
 },
 "nbformat": 4,
 "nbformat_minor": 2
}
